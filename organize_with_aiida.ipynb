{
 "cells": [
  {
   "cell_type": "markdown",
   "id": "5dc9ba3e-9dd0-422e-a916-40a4fe0039da",
   "metadata": {},
   "source": [
    "# How to organize data with AiiDA\n",
    "\n",
    "When doing *manual* calculations, one typically use files and directories to organize their data.  \n",
    "The names of directories, README files, nested folders essentially allows one to trace the progress and pick up where they have left from the past.\n",
    "\n",
    "One chanllege of using an automated platform, coming from files and folders, is that the organization of data and tracking progress becomes less familier.  \n",
    "This notebooks show cases how data, workflows, calculations can be organized efficiently when using AiiDA\n"
   ]
  },
  {
   "cell_type": "code",
   "execution_count": 1,
   "id": "f2ae7a82-9f4d-41b6-9c95-ae0729e4c539",
   "metadata": {},
   "outputs": [
    {
     "data": {
      "text/plain": [
       "Profile<uuid='7ed9f3f2bc6a45c98f75b6734a829020' name='myprofile'>"
      ]
     },
     "execution_count": 1,
     "metadata": {},
     "output_type": "execute_result"
    }
   ],
   "source": [
    "%load_ext aiida\n",
    "\n",
    "from aiida import load_profile, engine, orm, plugins\n",
    "from aiida.storage.sqlite_temp import SqliteTempBackend\n",
    "\n",
    "profile = load_profile(\n",
    "    SqliteTempBackend.create_profile(\n",
    "        'myprofile',\n",
    "        sandbox_path='_sandbox',\n",
    "        options={\n",
    "            'warnings.development_version': False,\n",
    "            'runner.poll.interval': 1\n",
    "        },\n",
    "        debug=False\n",
    "    ),\n",
    "    allow_switch=True\n",
    ")\n",
    "profile"
   ]
  },
  {
   "cell_type": "code",
   "execution_count": 2,
   "id": "e23333a7-afe3-4b2b-b4e5-744712b09172",
   "metadata": {},
   "outputs": [],
   "source": [
    "from aiida.orm import Data, Node, load_node"
   ]
  },
  {
   "cell_type": "markdown",
   "id": "a3dcdc5e-3d78-4bb6-b2e8-e95739109e6a",
   "metadata": {},
   "source": [
    "## `id`, `uudi` and  Node attributes\n",
    "\n",
    "Data in AiiDA is represented by `Node` instances and linkes between nodes.\n",
    "Here we only focus on the former, as the latter are typically automatically generated/interpreted without human intervention.\n",
    "\n",
    "When doing calculations, there will be input data, e.g. input crystal structures, and output data, e.g. those properties calculated, calculation files.\n",
    "There will also be calculations themselves, and the workflows associated, all represented as `Node` objects.\n",
    "\n",
    "This sections shows cases how metadata can be attached to a node "
   ]
  },
  {
   "cell_type": "markdown",
   "id": "5fe4aef4-610c-4131-8643-4f85b477a9c2",
   "metadata": {},
   "source": [
    "First, generate a simple node instance"
   ]
  },
  {
   "cell_type": "code",
   "execution_count": 3,
   "id": "b7d8adfd-ead2-4ad4-b3f0-885e01431ba6",
   "metadata": {},
   "outputs": [],
   "source": [
    "node = Data()"
   ]
  },
  {
   "cell_type": "code",
   "execution_count": 4,
   "id": "02b83426-c189-4fe6-be7a-c40b1c3051ba",
   "metadata": {},
   "outputs": [
    {
     "data": {
      "text/plain": [
       "<Data: uuid: 7337d4d8-589b-4478-8951-948b7fa053fa (unstored)>"
      ]
     },
     "execution_count": 4,
     "metadata": {},
     "output_type": "execute_result"
    }
   ],
   "source": [
    "node"
   ]
  },
  {
   "cell_type": "code",
   "execution_count": 5,
   "id": "b7629311-d76f-49b8-8001-bdd9ee6c8302",
   "metadata": {},
   "outputs": [
    {
     "data": {
      "text/plain": [
       "True"
      ]
     },
     "execution_count": 5,
     "metadata": {},
     "output_type": "execute_result"
    }
   ],
   "source": [
    "isinstance(node, Node)"
   ]
  },
  {
   "cell_type": "markdown",
   "id": "17432b0e-dd3f-4c0b-b4f3-ac992bfa938f",
   "metadata": {},
   "source": [
    "Note that this `Data` node is not stored yet, but an *UUID* has been assigned to it. \n",
    "\n",
    "The *UUID* is an unique identifier for the `Node`, and will remain the same forever, even if the data is exported, and import to other databases. "
   ]
  },
  {
   "cell_type": "code",
   "execution_count": 6,
   "id": "2a214ca1-3f71-4b14-b253-81ffed9d3731",
   "metadata": {},
   "outputs": [],
   "source": [
    "node.id"
   ]
  },
  {
   "cell_type": "code",
   "execution_count": 7,
   "id": "d99ef657-ca1e-46ef-9f30-aa2ae29abca6",
   "metadata": {},
   "outputs": [],
   "source": [
    "node.pk"
   ]
  },
  {
   "cell_type": "markdown",
   "id": "6b9a9d7f-faab-4b95-8af5-ee6047bc8745",
   "metadata": {},
   "source": [
    "The `id` (or `pk`) is a also a key for referencing the `Data` node. It is used internally by the database engine for efficient referencing to the same `Node` instance.  \n",
    "It is only assigned when the node is `stored`. As you can see, it is empty for now since the `Data` node is not stored yet."
   ]
  },
  {
   "cell_type": "code",
   "execution_count": 8,
   "id": "7d2fe6b4-7d26-4cd0-8880-be79c1c3094f",
   "metadata": {},
   "outputs": [
    {
     "data": {
      "text/plain": [
       "{}"
      ]
     },
     "execution_count": 8,
     "metadata": {},
     "output_type": "execute_result"
    }
   ],
   "source": [
    "node.attributes"
   ]
  },
  {
   "cell_type": "markdown",
   "id": "e68c813a-7e78-4005-be6c-7d80a0fd8149",
   "metadata": {},
   "source": [
    "The `attributes` are properties associated with the node, it is dictionary that store key-value pairs. \n",
    "It can be set by the user if needed."
   ]
  },
  {
   "cell_type": "code",
   "execution_count": 9,
   "id": "a6095063-894c-43c7-8ece-d57f4ee7aea5",
   "metadata": {},
   "outputs": [],
   "source": [
    "node.set_attribute(\"foo\", \"bar\")"
   ]
  },
  {
   "cell_type": "code",
   "execution_count": 10,
   "id": "58287a90-2050-4be1-bbb1-ffd4f87ed04f",
   "metadata": {},
   "outputs": [
    {
     "data": {
      "text/plain": [
       "{'foo': 'bar'}"
      ]
     },
     "execution_count": 10,
     "metadata": {},
     "output_type": "execute_result"
    }
   ],
   "source": [
    "node.attributes"
   ]
  },
  {
   "cell_type": "code",
   "execution_count": 11,
   "id": "6db418d1-8a8a-48e9-97da-9d904c251c93",
   "metadata": {},
   "outputs": [
    {
     "data": {
      "text/plain": [
       "'bar'"
      ]
     },
     "execution_count": 11,
     "metadata": {},
     "output_type": "execute_result"
    }
   ],
   "source": [
    "node.get_attribute(\"foo\")"
   ]
  },
  {
   "cell_type": "markdown",
   "id": "973296e5-40df-4b23-928a-dede4ac3600c",
   "metadata": {},
   "source": [
    "We now store the `Data` node."
   ]
  },
  {
   "cell_type": "code",
   "execution_count": 12,
   "id": "ee15aa69-e6da-471c-acc0-1605e75f0467",
   "metadata": {},
   "outputs": [
    {
     "data": {
      "text/plain": [
       "<Data: uuid: 7337d4d8-589b-4478-8951-948b7fa053fa (pk: 1)>"
      ]
     },
     "execution_count": 12,
     "metadata": {},
     "output_type": "execute_result"
    }
   ],
   "source": [
    "node.store()"
   ]
  },
  {
   "cell_type": "markdown",
   "id": "09ba7e9c-4d6a-4873-8370-10636824660c",
   "metadata": {},
   "source": [
    "Stored nodes can be loaded again withing `id` or `uuid`."
   ]
  },
  {
   "cell_type": "code",
   "execution_count": 13,
   "id": "01c4ca87-54ea-4dd1-a878-d8dd43df5926",
   "metadata": {},
   "outputs": [
    {
     "data": {
      "text/plain": [
       "<Data: uuid: 7337d4d8-589b-4478-8951-948b7fa053fa (pk: 1)>"
      ]
     },
     "execution_count": 13,
     "metadata": {},
     "output_type": "execute_result"
    }
   ],
   "source": [
    "node2 = load_node(node.id)\n",
    "assert node2.id == node.id\n",
    "assert node2.uuid == node.uuid\n",
    "assert node2.attributes == node.attributes\n",
    "node2 "
   ]
  },
  {
   "cell_type": "code",
   "execution_count": 14,
   "id": "d813dc2b-c52f-4056-bde5-5912f2f6aaa3",
   "metadata": {},
   "outputs": [
    {
     "data": {
      "text/plain": [
       "True"
      ]
     },
     "execution_count": 14,
     "metadata": {},
     "output_type": "execute_result"
    }
   ],
   "source": [
    "hash(node2) == hash(node)"
   ]
  },
  {
   "cell_type": "markdown",
   "id": "7d4cb1db-fd44-4a8f-9ab2-9725777b8749",
   "metadata": {},
   "source": [
    "Loading with `uuid`"
   ]
  },
  {
   "cell_type": "code",
   "execution_count": 15,
   "id": "e7254b63-e12e-43d0-9a34-0ac0cfb509a7",
   "metadata": {},
   "outputs": [
    {
     "data": {
      "text/plain": [
       "<Data: uuid: 7337d4d8-589b-4478-8951-948b7fa053fa (pk: 1)>"
      ]
     },
     "execution_count": 15,
     "metadata": {},
     "output_type": "execute_result"
    }
   ],
   "source": [
    "load_node(node.uuid[:8])"
   ]
  },
  {
   "cell_type": "markdown",
   "id": "8fa70c7f-e645-4bd9-8011-7eca97c8a024",
   "metadata": {},
   "source": [
    "Finding the same node by querying - give me all the nodes that contains `{'foo': 'bar'}` in its attributes"
   ]
  },
  {
   "cell_type": "code",
   "execution_count": 16,
   "id": "6b52b64e-07b6-40c7-b3db-c6e37f4d3ade",
   "metadata": {},
   "outputs": [
    {
     "data": {
      "text/plain": [
       "[<Data: uuid: 7337d4d8-589b-4478-8951-948b7fa053fa (pk: 1)>]"
      ]
     },
     "execution_count": 16,
     "metadata": {},
     "output_type": "execute_result"
    }
   ],
   "source": [
    "Data.objects.find(filters={'attributes.foo': 'bar'})"
   ]
  },
  {
   "cell_type": "markdown",
   "id": "48915381-db98-40e9-b4a9-8aaf7187b152",
   "metadata": {},
   "source": [
    "Difference between `uuid` and `id`:\n",
    "\n",
    "* `id` is used *internally* by the database engine, and it is unique for **only this database**. The same `id` can mean differnt nodes in different database. \n",
    "* `uuid` is an unique identifier and will always remain unchanged, even if the data is imported into other databases. \n",
    "* `id` is only assigned when the node is stored.\n",
    "* `uuid` is assigned when the node is created.\n",
    "\n",
    "Directly reference `id` or `uuid` allows the same stored data to be loaded later for analysis/launching calculations.\n",
    "\n",
    "However, while the use of `uuid` allow *unambiguous* reference of the same data, remembering its value in head is in possible, and writing it down somewhere (in a notebook) can be tedious.\n",
    "\n",
    "Fortunately, there are arrays of tools for adding metadata to `Node` instances and allow them to be reference in flexible way later."
   ]
  },
  {
   "cell_type": "markdown",
   "id": "ea1fb599-6c43-427f-a000-7f2fbe353a29",
   "metadata": {},
   "source": [
    "## `mtime` and `ctime`\n",
    "\n",
    "Timestamps are useful to now when the data was created, modified."
   ]
  },
  {
   "cell_type": "markdown",
   "id": "df79a2cf-4b3d-4e8b-9692-aad1704a3f6c",
   "metadata": {},
   "source": [
    "time of creation"
   ]
  },
  {
   "cell_type": "code",
   "execution_count": 17,
   "id": "ce5177ea-9c67-4206-a5ed-700e5bac703a",
   "metadata": {},
   "outputs": [
    {
     "data": {
      "text/plain": [
       "'2022-05-25T12:24:05.011425+00:00'"
      ]
     },
     "execution_count": 17,
     "metadata": {},
     "output_type": "execute_result"
    }
   ],
   "source": [
    "node.ctime.isoformat()"
   ]
  },
  {
   "cell_type": "markdown",
   "id": "eed62922-5ce5-4ecf-9cba-b11cde5898d1",
   "metadata": {},
   "source": [
    "time of modification"
   ]
  },
  {
   "cell_type": "code",
   "execution_count": 18,
   "id": "d2b7688d-369d-41c6-8f95-d0a6e32e85b6",
   "metadata": {},
   "outputs": [
    {
     "data": {
      "text/plain": [
       "'2022-05-25T12:24:05.104282+00:00'"
      ]
     },
     "execution_count": 18,
     "metadata": {},
     "output_type": "execute_result"
    }
   ],
   "source": [
    "node.mtime.isoformat()"
   ]
  },
  {
   "cell_type": "markdown",
   "id": "eaeffbb2-c46c-421a-9fc5-c2f1ad2b9031",
   "metadata": {},
   "source": [
    "## `label` and `description`"
   ]
  },
  {
   "cell_type": "markdown",
   "id": "211b4ff9-8731-40d6-ad63-16aae65b70f7",
   "metadata": {},
   "source": [
    "`label` as it name suggests, allows us to label the node. They are emtpy by default, and can be assigned *before or after* the node is stored"
   ]
  },
  {
   "cell_type": "code",
   "execution_count": 19,
   "id": "11599006-3acf-4f14-a6e5-165fe73947c4",
   "metadata": {},
   "outputs": [
    {
     "data": {
      "text/plain": [
       "''"
      ]
     },
     "execution_count": 19,
     "metadata": {},
     "output_type": "execute_result"
    }
   ],
   "source": [
    "node.label"
   ]
  },
  {
   "cell_type": "code",
   "execution_count": 20,
   "id": "b94ee9d6-4520-433d-8638-3a9f884b7bc9",
   "metadata": {},
   "outputs": [
    {
     "data": {
      "text/plain": [
       "''"
      ]
     },
     "execution_count": 20,
     "metadata": {},
     "output_type": "execute_result"
    }
   ],
   "source": [
    "node.description"
   ]
  },
  {
   "cell_type": "code",
   "execution_count": 21,
   "id": "7dac25a7-fd13-4cc1-a83d-5df40933acbf",
   "metadata": {},
   "outputs": [],
   "source": [
    "node.label = 'materials1-run1-input-data'\n",
    "node.description = 'Some data for my calculation / analysis'"
   ]
  },
  {
   "cell_type": "code",
   "execution_count": 22,
   "id": "c42451b7-71ec-451d-9ecd-52e1d56c579c",
   "metadata": {},
   "outputs": [
    {
     "data": {
      "text/plain": [
       "'materials1-run1-input-data'"
      ]
     },
     "execution_count": 22,
     "metadata": {},
     "output_type": "execute_result"
    }
   ],
   "source": [
    "node.label"
   ]
  },
  {
   "cell_type": "code",
   "execution_count": 23,
   "id": "aa0deb96-961d-45ce-8646-cb87fb129b1f",
   "metadata": {},
   "outputs": [
    {
     "data": {
      "text/plain": [
       "'Some data for my calculation / analysis'"
      ]
     },
     "execution_count": 23,
     "metadata": {},
     "output_type": "execute_result"
    }
   ],
   "source": [
    "node.description"
   ]
  },
  {
   "cell_type": "markdown",
   "id": "9a7fb55e-a777-4a7c-9c96-c581dcb7e821",
   "metadata": {},
   "source": [
    "❗🚀One can also use `label` to reference the node"
   ]
  },
  {
   "cell_type": "code",
   "execution_count": 24,
   "id": "ac7ebda4-5a3b-4a40-9de5-40d17ccdb3ff",
   "metadata": {},
   "outputs": [
    {
     "data": {
      "text/plain": [
       "<Data: uuid: 7337d4d8-589b-4478-8951-948b7fa053fa (pk: 1)>"
      ]
     },
     "execution_count": 24,
     "metadata": {},
     "output_type": "execute_result"
    }
   ],
   "source": [
    "load_node('materials1-run1-input-data')"
   ]
  },
  {
   "cell_type": "markdown",
   "id": "9ad67487-cf1f-4a52-96be-3e80401c0520",
   "metadata": {},
   "source": [
    "😝However, this obviously does not work if there are nodes with the same label..."
   ]
  },
  {
   "cell_type": "code",
   "execution_count": 25,
   "id": "ba32c223-b30e-4050-b948-e9ca2d500f92",
   "metadata": {},
   "outputs": [
    {
     "data": {
      "text/plain": [
       "<Data: uuid: fe6bc62b-cd40-4c16-b7ae-28585f7e1413 (pk: 2)>"
      ]
     },
     "execution_count": 25,
     "metadata": {},
     "output_type": "execute_result"
    }
   ],
   "source": [
    "node2 = Data()\n",
    "node2.label = 'materials1-run1-input-data'\n",
    "node2.store()"
   ]
  },
  {
   "cell_type": "code",
   "execution_count": 26,
   "id": "7f2d1d34-9bc9-436b-9535-80d0de2a5c67",
   "metadata": {
    "tags": []
   },
   "outputs": [
    {
     "ename": "MultipleObjectsError",
     "evalue": "multiple Node entries found with LABEL<materials1-run1-input-data>",
     "output_type": "error",
     "traceback": [
      "\u001b[0;31m---------------------------------------------------------------------------\u001b[0m",
      "\u001b[0;31mMultipleObjectsError\u001b[0m                      Traceback (most recent call last)",
      "\u001b[0;32m~/aiida_envs/aiida-2.0-dev/aiida_core/aiida/orm/utils/loaders.py\u001b[0m in \u001b[0;36mload_entity\u001b[0;34m(cls, identifier, identifier_type, sub_classes, query_with_dashes)\u001b[0m\n\u001b[1;32m    406\u001b[0m         \u001b[0;32mtry\u001b[0m\u001b[0;34m:\u001b[0m\u001b[0;34m\u001b[0m\u001b[0;34m\u001b[0m\u001b[0m\n\u001b[0;32m--> 407\u001b[0;31m             \u001b[0mentity\u001b[0m \u001b[0;34m=\u001b[0m \u001b[0mbuilder\u001b[0m\u001b[0;34m.\u001b[0m\u001b[0mone\u001b[0m\u001b[0;34m(\u001b[0m\u001b[0;34m)\u001b[0m\u001b[0;34m[\u001b[0m\u001b[0;36m0\u001b[0m\u001b[0;34m]\u001b[0m\u001b[0;34m\u001b[0m\u001b[0;34m\u001b[0m\u001b[0m\n\u001b[0m\u001b[1;32m    408\u001b[0m         \u001b[0;32mexcept\u001b[0m \u001b[0mMultipleObjectsError\u001b[0m\u001b[0;34m:\u001b[0m\u001b[0;34m\u001b[0m\u001b[0;34m\u001b[0m\u001b[0m\n",
      "\u001b[0;32m~/aiida_envs/aiida-2.0-dev/aiida_core/aiida/orm/querybuilder.py\u001b[0m in \u001b[0;36mone\u001b[0;34m(self)\u001b[0m\n\u001b[1;32m   1110\u001b[0m         \u001b[0;32mif\u001b[0m \u001b[0mlen\u001b[0m\u001b[0;34m(\u001b[0m\u001b[0mres\u001b[0m\u001b[0;34m)\u001b[0m \u001b[0;34m>\u001b[0m \u001b[0;36m1\u001b[0m\u001b[0;34m:\u001b[0m\u001b[0;34m\u001b[0m\u001b[0;34m\u001b[0m\u001b[0m\n\u001b[0;32m-> 1111\u001b[0;31m             \u001b[0;32mraise\u001b[0m \u001b[0mMultipleObjectsError\u001b[0m\u001b[0;34m(\u001b[0m\u001b[0;34m'More than one result was found'\u001b[0m\u001b[0;34m)\u001b[0m\u001b[0;34m\u001b[0m\u001b[0;34m\u001b[0m\u001b[0m\n\u001b[0m\u001b[1;32m   1112\u001b[0m         \u001b[0;32melif\u001b[0m \u001b[0mlen\u001b[0m\u001b[0;34m(\u001b[0m\u001b[0mres\u001b[0m\u001b[0;34m)\u001b[0m \u001b[0;34m==\u001b[0m \u001b[0;36m0\u001b[0m\u001b[0;34m:\u001b[0m\u001b[0;34m\u001b[0m\u001b[0;34m\u001b[0m\u001b[0m\n",
      "\u001b[0;31mMultipleObjectsError\u001b[0m: More than one result was found",
      "\nDuring handling of the above exception, another exception occurred:\n",
      "\u001b[0;31mMultipleObjectsError\u001b[0m                      Traceback (most recent call last)",
      "\u001b[0;32m<ipython-input-26-ae783768a09f>\u001b[0m in \u001b[0;36m<module>\u001b[0;34m\u001b[0m\n\u001b[0;32m----> 1\u001b[0;31m \u001b[0mload_node\u001b[0m\u001b[0;34m(\u001b[0m\u001b[0;34m'materials1-run1-input-data'\u001b[0m\u001b[0;34m)\u001b[0m\u001b[0;34m\u001b[0m\u001b[0;34m\u001b[0m\u001b[0m\n\u001b[0m",
      "\u001b[0;32m~/aiida_envs/aiida-2.0-dev/aiida_core/aiida/orm/utils/loaders.py\u001b[0m in \u001b[0;36mload_node\u001b[0;34m(identifier, pk, uuid, label, sub_classes, query_with_dashes)\u001b[0m\n\u001b[1;32m    204\u001b[0m     \u001b[0;34m:\u001b[0m\u001b[0;32mraise\u001b[0m \u001b[0maiida\u001b[0m\u001b[0;34m.\u001b[0m\u001b[0mcommon\u001b[0m\u001b[0;34m.\u001b[0m\u001b[0mMultipleObjectsError\u001b[0m\u001b[0;34m:\u001b[0m \u001b[0;32mif\u001b[0m \u001b[0mmore\u001b[0m \u001b[0mthan\u001b[0m \u001b[0mone\u001b[0m \u001b[0mNode\u001b[0m \u001b[0mwas\u001b[0m \u001b[0mfound\u001b[0m\u001b[0;34m\u001b[0m\u001b[0;34m\u001b[0m\u001b[0m\n\u001b[1;32m    205\u001b[0m     \"\"\"\n\u001b[0;32m--> 206\u001b[0;31m     return load_entity(\n\u001b[0m\u001b[1;32m    207\u001b[0m         \u001b[0mNodeEntityLoader\u001b[0m\u001b[0;34m,\u001b[0m\u001b[0;34m\u001b[0m\u001b[0;34m\u001b[0m\u001b[0m\n\u001b[1;32m    208\u001b[0m         \u001b[0midentifier\u001b[0m\u001b[0;34m=\u001b[0m\u001b[0midentifier\u001b[0m\u001b[0;34m,\u001b[0m\u001b[0;34m\u001b[0m\u001b[0;34m\u001b[0m\u001b[0m\n",
      "\u001b[0;32m~/aiida_envs/aiida-2.0-dev/aiida_core/aiida/orm/utils/loaders.py\u001b[0m in \u001b[0;36mload_entity\u001b[0;34m(entity_loader, identifier, pk, uuid, label, sub_classes, query_with_dashes)\u001b[0m\n\u001b[1;32m     86\u001b[0m         \u001b[0midentifier_type\u001b[0m \u001b[0;34m=\u001b[0m \u001b[0;32mNone\u001b[0m\u001b[0;34m\u001b[0m\u001b[0;34m\u001b[0m\u001b[0m\n\u001b[1;32m     87\u001b[0m \u001b[0;34m\u001b[0m\u001b[0m\n\u001b[0;32m---> 88\u001b[0;31m     return entity_loader.load_entity(\n\u001b[0m\u001b[1;32m     89\u001b[0m         \u001b[0midentifier\u001b[0m\u001b[0;34m,\u001b[0m \u001b[0midentifier_type\u001b[0m\u001b[0;34m,\u001b[0m \u001b[0msub_classes\u001b[0m\u001b[0;34m=\u001b[0m\u001b[0msub_classes\u001b[0m\u001b[0;34m,\u001b[0m \u001b[0mquery_with_dashes\u001b[0m\u001b[0;34m=\u001b[0m\u001b[0mquery_with_dashes\u001b[0m\u001b[0;34m\u001b[0m\u001b[0;34m\u001b[0m\u001b[0m\n\u001b[1;32m     90\u001b[0m     )\n",
      "\u001b[0;32m~/aiida_envs/aiida-2.0-dev/aiida_core/aiida/orm/utils/loaders.py\u001b[0m in \u001b[0;36mload_entity\u001b[0;34m(cls, identifier, identifier_type, sub_classes, query_with_dashes)\u001b[0m\n\u001b[1;32m    408\u001b[0m         \u001b[0;32mexcept\u001b[0m \u001b[0mMultipleObjectsError\u001b[0m\u001b[0;34m:\u001b[0m\u001b[0;34m\u001b[0m\u001b[0;34m\u001b[0m\u001b[0m\n\u001b[1;32m    409\u001b[0m             \u001b[0merror\u001b[0m \u001b[0;34m=\u001b[0m \u001b[0;34mf'multiple {classes} entries found with {identifier_type}<{identifier}>'\u001b[0m\u001b[0;34m\u001b[0m\u001b[0;34m\u001b[0m\u001b[0m\n\u001b[0;32m--> 410\u001b[0;31m             \u001b[0;32mraise\u001b[0m \u001b[0mMultipleObjectsError\u001b[0m\u001b[0;34m(\u001b[0m\u001b[0merror\u001b[0m\u001b[0;34m)\u001b[0m\u001b[0;34m\u001b[0m\u001b[0;34m\u001b[0m\u001b[0m\n\u001b[0m\u001b[1;32m    411\u001b[0m         \u001b[0;32mexcept\u001b[0m \u001b[0mNotExistent\u001b[0m \u001b[0;32mas\u001b[0m \u001b[0mexception\u001b[0m\u001b[0;34m:\u001b[0m\u001b[0;34m\u001b[0m\u001b[0;34m\u001b[0m\u001b[0m\n\u001b[1;32m    412\u001b[0m             \u001b[0merror\u001b[0m \u001b[0;34m=\u001b[0m \u001b[0;34mf'no {classes} found with {identifier_type}<{identifier}>: {exception}'\u001b[0m\u001b[0;34m\u001b[0m\u001b[0;34m\u001b[0m\u001b[0m\n",
      "\u001b[0;31mMultipleObjectsError\u001b[0m: multiple Node entries found with LABEL<materials1-run1-input-data>"
     ]
    }
   ],
   "source": [
    "load_node('materials1-run1-input-data')"
   ]
  },
  {
   "cell_type": "markdown",
   "id": "fcb979d8-1224-4aa9-8754-47ae9c6af2b8",
   "metadata": {},
   "source": [
    "😄To get us out of this situation, one can query to find all nodes with the same label"
   ]
  },
  {
   "cell_type": "code",
   "execution_count": 27,
   "id": "535a9f14-c66a-46a9-8738-ad7f4f0a8222",
   "metadata": {},
   "outputs": [
    {
     "data": {
      "text/plain": [
       "[<Data: uuid: 7337d4d8-589b-4478-8951-948b7fa053fa (pk: 1)>,\n",
       " <Data: uuid: fe6bc62b-cd40-4c16-b7ae-28585f7e1413 (pk: 2)>]"
      ]
     },
     "execution_count": 27,
     "metadata": {},
     "output_type": "execute_result"
    }
   ],
   "source": [
    "Data.objects.find(filters={'label': 'materials1-run1-input-data'})"
   ]
  },
  {
   "cell_type": "markdown",
   "id": "e3daa50c-f595-4bf9-a457-a78dbc20454c",
   "metadata": {},
   "source": [
    "or to get (any) one of them"
   ]
  },
  {
   "cell_type": "code",
   "execution_count": 28,
   "id": "2a9fe4a1-5e3b-4e63-848b-9632d089b56d",
   "metadata": {},
   "outputs": [
    {
     "data": {
      "text/plain": [
       "[<Data: uuid: 7337d4d8-589b-4478-8951-948b7fa053fa (pk: 1)>]"
      ]
     },
     "execution_count": 28,
     "metadata": {},
     "output_type": "execute_result"
    }
   ],
   "source": [
    "Data.objects.query(filters={'label': 'materials1-run1-input-data'}).first()"
   ]
  },
  {
   "cell_type": "markdown",
   "id": "f1791790-58fd-42d4-9eea-e1453a7c0080",
   "metadata": {},
   "source": [
    "It is also possibel to query by the `description`, in fact, almost all of the data stored in `Node` instances can be queried (nice thing when your data is stored in a database!⭐)"
   ]
  },
  {
   "cell_type": "code",
   "execution_count": 29,
   "id": "77766edd-88e7-40d9-a6c9-2e266463b8ea",
   "metadata": {},
   "outputs": [
    {
     "data": {
      "text/plain": [
       "[<Data: uuid: 7337d4d8-589b-4478-8951-948b7fa053fa (pk: 1)>]"
      ]
     },
     "execution_count": 29,
     "metadata": {},
     "output_type": "execute_result"
    }
   ],
   "source": [
    "Data.objects.find(filters={'description': 'Some data for my calculation / analysis'})"
   ]
  },
  {
   "cell_type": "markdown",
   "id": "1941b4e7-4417-4bbd-9e59-37c1eb15bc09",
   "metadata": {},
   "source": [
    "or with pattern matching"
   ]
  },
  {
   "cell_type": "code",
   "execution_count": 30,
   "id": "d5c1536a-2b06-47d4-b944-c190783ccc56",
   "metadata": {},
   "outputs": [
    {
     "data": {
      "text/plain": [
       "[<Data: uuid: 7337d4d8-589b-4478-8951-948b7fa053fa (pk: 1)>]"
      ]
     },
     "execution_count": 30,
     "metadata": {},
     "output_type": "execute_result"
    }
   ],
   "source": [
    "Data.objects.find(filters={'description': {'like': 'Some data%'}})"
   ]
  },
  {
   "cell_type": "markdown",
   "id": "e5efa7c8-bdcd-4cdd-a723-e8a475b7214d",
   "metadata": {},
   "source": [
    "❗💡While description and labels are very powerful for adding metadata to the nodes, care should be takens that they can be changed anytime.  \n",
    "If you build your analysis code purely based on referencing with `label` and `description`, they can break easily. "
   ]
  },
  {
   "cell_type": "markdown",
   "id": "d18d9757-65e0-4152-b0cf-8c2104ba82f1",
   "metadata": {},
   "source": [
    "## Use `extras` to store additional (meta)data\n",
    "Once a node is stored, its `attributes` cannot be changed (in most cases)"
   ]
  },
  {
   "cell_type": "code",
   "execution_count": 31,
   "id": "ad220ee5-df45-4ad7-bc72-21c2f43e68b3",
   "metadata": {},
   "outputs": [
    {
     "ename": "ModificationNotAllowed",
     "evalue": "the attributes of a stored entity are immutable",
     "output_type": "error",
     "traceback": [
      "\u001b[0;31m---------------------------------------------------------------------------\u001b[0m",
      "\u001b[0;31mModificationNotAllowed\u001b[0m                    Traceback (most recent call last)",
      "\u001b[0;32m<ipython-input-31-b180463b3faa>\u001b[0m in \u001b[0;36m<module>\u001b[0;34m\u001b[0m\n\u001b[0;32m----> 1\u001b[0;31m \u001b[0mnode\u001b[0m\u001b[0;34m.\u001b[0m\u001b[0mset_attribute\u001b[0m\u001b[0;34m(\u001b[0m\u001b[0;34m'ha'\u001b[0m\u001b[0;34m,\u001b[0m \u001b[0;36m42\u001b[0m\u001b[0;34m)\u001b[0m\u001b[0;34m\u001b[0m\u001b[0;34m\u001b[0m\u001b[0m\n\u001b[0m",
      "\u001b[0;32m~/aiida_envs/aiida-2.0-dev/aiida_core/aiida/orm/nodes/attributes.py\u001b[0m in \u001b[0;36mset\u001b[0;34m(self, key, value)\u001b[0m\n\u001b[1;32m    116\u001b[0m         \u001b[0;34m:\u001b[0m\u001b[0;32mraise\u001b[0m \u001b[0maiida\u001b[0m\u001b[0;34m.\u001b[0m\u001b[0mcommon\u001b[0m\u001b[0;34m.\u001b[0m\u001b[0mModificationNotAllowed\u001b[0m\u001b[0;34m:\u001b[0m \u001b[0;32mif\u001b[0m \u001b[0mthe\u001b[0m \u001b[0mentity\u001b[0m \u001b[0;32mis\u001b[0m \u001b[0mstored\u001b[0m\u001b[0;34m\u001b[0m\u001b[0;34m\u001b[0m\u001b[0m\n\u001b[1;32m    117\u001b[0m         \"\"\"\n\u001b[0;32m--> 118\u001b[0;31m         \u001b[0mself\u001b[0m\u001b[0;34m.\u001b[0m\u001b[0m_node\u001b[0m\u001b[0;34m.\u001b[0m\u001b[0m_check_mutability_attributes\u001b[0m\u001b[0;34m(\u001b[0m\u001b[0;34m[\u001b[0m\u001b[0mkey\u001b[0m\u001b[0;34m]\u001b[0m\u001b[0;34m)\u001b[0m  \u001b[0;31m# pylint: disable=protected-access\u001b[0m\u001b[0;34m\u001b[0m\u001b[0;34m\u001b[0m\u001b[0m\n\u001b[0m\u001b[1;32m    119\u001b[0m         \u001b[0mself\u001b[0m\u001b[0;34m.\u001b[0m\u001b[0m_backend_node\u001b[0m\u001b[0;34m.\u001b[0m\u001b[0mset_attribute\u001b[0m\u001b[0;34m(\u001b[0m\u001b[0mkey\u001b[0m\u001b[0;34m,\u001b[0m \u001b[0mvalue\u001b[0m\u001b[0;34m)\u001b[0m\u001b[0;34m\u001b[0m\u001b[0;34m\u001b[0m\u001b[0m\n\u001b[1;32m    120\u001b[0m \u001b[0;34m\u001b[0m\u001b[0m\n",
      "\u001b[0;32m~/aiida_envs/aiida-2.0-dev/aiida_core/aiida/orm/nodes/node.py\u001b[0m in \u001b[0;36m_check_mutability_attributes\u001b[0;34m(self, keys)\u001b[0m\n\u001b[1;32m    205\u001b[0m         \"\"\"\n\u001b[1;32m    206\u001b[0m         \u001b[0;32mif\u001b[0m \u001b[0mself\u001b[0m\u001b[0;34m.\u001b[0m\u001b[0mis_stored\u001b[0m\u001b[0;34m:\u001b[0m\u001b[0;34m\u001b[0m\u001b[0;34m\u001b[0m\u001b[0m\n\u001b[0;32m--> 207\u001b[0;31m             \u001b[0;32mraise\u001b[0m \u001b[0mexceptions\u001b[0m\u001b[0;34m.\u001b[0m\u001b[0mModificationNotAllowed\u001b[0m\u001b[0;34m(\u001b[0m\u001b[0;34m'the attributes of a stored entity are immutable'\u001b[0m\u001b[0;34m)\u001b[0m\u001b[0;34m\u001b[0m\u001b[0;34m\u001b[0m\u001b[0m\n\u001b[0m\u001b[1;32m    208\u001b[0m \u001b[0;34m\u001b[0m\u001b[0m\n\u001b[1;32m    209\u001b[0m     \u001b[0;32mdef\u001b[0m \u001b[0m__eq__\u001b[0m\u001b[0;34m(\u001b[0m\u001b[0mself\u001b[0m\u001b[0;34m,\u001b[0m \u001b[0mother\u001b[0m\u001b[0;34m:\u001b[0m \u001b[0mAny\u001b[0m\u001b[0;34m)\u001b[0m \u001b[0;34m->\u001b[0m \u001b[0mbool\u001b[0m\u001b[0;34m:\u001b[0m\u001b[0;34m\u001b[0m\u001b[0;34m\u001b[0m\u001b[0m\n",
      "\u001b[0;31mModificationNotAllowed\u001b[0m: the attributes of a stored entity are immutable"
     ]
    }
   ],
   "source": [
    "node.set_attribute('ha', 42)"
   ]
  },
  {
   "cell_type": "markdown",
   "id": "aa1d77f5-6bd4-4d39-9b19-5255a1fc6ac9",
   "metadata": {},
   "source": [
    "However, the `extras` field can be changed, just like the label and the descriptions"
   ]
  },
  {
   "cell_type": "code",
   "execution_count": 32,
   "id": "c0bc8dbd-ae8d-4940-b66e-ed61060539a9",
   "metadata": {},
   "outputs": [],
   "source": [
    "node.set_extra('ha', 42)"
   ]
  },
  {
   "cell_type": "code",
   "execution_count": 33,
   "id": "1c72b6f1-c898-4225-ae28-83314819cd2f",
   "metadata": {},
   "outputs": [
    {
     "data": {
      "text/plain": [
       "{'_aiida_hash': 'f29c067972a92842ec9f252cc103bcbc08dafaf462277c4dbf02d0f69b28cf64',\n",
       " 'ha': 42}"
      ]
     },
     "execution_count": 33,
     "metadata": {},
     "output_type": "execute_result"
    }
   ],
   "source": [
    "node.extras"
   ]
  },
  {
   "cell_type": "markdown",
   "id": "0a4f56fe-783a-4154-bf30-642439e826d5",
   "metadata": {},
   "source": [
    "and it can be used for querying just like the others"
   ]
  },
  {
   "cell_type": "code",
   "execution_count": 34,
   "id": "f76532b7-b6ea-492e-bb9c-cebe9220c9ab",
   "metadata": {},
   "outputs": [
    {
     "data": {
      "text/plain": [
       "[<Data: uuid: 7337d4d8-589b-4478-8951-948b7fa053fa (pk: 1)>]"
      ]
     },
     "execution_count": 34,
     "metadata": {},
     "output_type": "execute_result"
    }
   ],
   "source": [
    "Data.objects.find(filters={'extras.ha': 42})"
   ]
  },
  {
   "cell_type": "markdown",
   "id": "751f8872-9211-4ac6-828a-2461fb224ab5",
   "metadata": {},
   "source": [
    "In some cases, it can be useful to *tag* nodes this way. For example, crystals structure imported from materials project can be taged with their `entry_id` provided.\n",
    "\n",
    "See also: `aiida_user_addons.pymatgen.load_structure_from_mp`."
   ]
  },
  {
   "cell_type": "markdown",
   "id": "f8b16820-7cc0-43d6-be41-65ca63f2a8ea",
   "metadata": {},
   "source": [
    "## `comments` for commenting\n",
    "\n",
    "One can also add comments to a node. Compared with `label` and `description`, there can be multiple comments associated wtih the same node"
   ]
  },
  {
   "cell_type": "code",
   "execution_count": 35,
   "id": "ea2e7972-eca0-4494-a358-d71c1256caa8",
   "metadata": {},
   "outputs": [
    {
     "data": {
      "text/plain": [
       "<aiida.orm.comments.Comment at 0x7fc7157f94f0>"
      ]
     },
     "execution_count": 35,
     "metadata": {},
     "output_type": "execute_result"
    }
   ],
   "source": [
    "node.add_comment(\"My awsome input parameters!\")"
   ]
  },
  {
   "cell_type": "code",
   "execution_count": 36,
   "id": "024e47e8-fdad-421f-98b8-9f3cf7dc73b5",
   "metadata": {},
   "outputs": [
    {
     "data": {
      "text/plain": [
       "[<aiida.orm.comments.Comment at 0x7fc7157ab550>]"
      ]
     },
     "execution_count": 36,
     "metadata": {},
     "output_type": "execute_result"
    }
   ],
   "source": [
    "node.get_comments()"
   ]
  },
  {
   "cell_type": "markdown",
   "id": "ff922648-89ab-4f4e-848c-1a30c1e8f86e",
   "metadata": {},
   "source": [
    "note that comment are also stored in the database"
   ]
  },
  {
   "cell_type": "code",
   "execution_count": 37,
   "id": "b1bdd4d3-115a-4df0-b711-ec82edafe6ce",
   "metadata": {},
   "outputs": [
    {
     "data": {
      "text/plain": [
       "('ec1f0019-6bdd-4db9-823c-ff1535074944', 'My awsome input parameters!')"
      ]
     },
     "execution_count": 37,
     "metadata": {},
     "output_type": "execute_result"
    }
   ],
   "source": [
    "node.get_comments()[0].uuid, node.get_comments()[0].content"
   ]
  },
  {
   "cell_type": "markdown",
   "id": "cc16db92-6222-4edc-8fb9-d6fb4fce483c",
   "metadata": {},
   "source": [
    "This means that they can be queried"
   ]
  },
  {
   "cell_type": "code",
   "execution_count": 38,
   "id": "1969eae9-a571-48e8-8c8f-75f81e08c307",
   "metadata": {},
   "outputs": [],
   "source": [
    "from aiida.orm import Comment"
   ]
  },
  {
   "cell_type": "code",
   "execution_count": 39,
   "id": "56844f4d-4b23-4326-943a-4c9c5759ab92",
   "metadata": {},
   "outputs": [
    {
     "data": {
      "text/plain": [
       "[<aiida.orm.comments.Comment at 0x7fc7157bdb80>]"
      ]
     },
     "execution_count": 39,
     "metadata": {},
     "output_type": "execute_result"
    }
   ],
   "source": [
    "comments = Comment.objects.find(filters={'content': {'like': '%awsome%'}})\n",
    "comments"
   ]
  },
  {
   "cell_type": "code",
   "execution_count": 40,
   "id": "0f550280-d6fd-4fb3-89a0-5e601248a2b3",
   "metadata": {},
   "outputs": [
    {
     "data": {
      "text/plain": [
       "<aiida.orm.comments.Comment at 0x7fc7157bdb80>"
      ]
     },
     "execution_count": 40,
     "metadata": {},
     "output_type": "execute_result"
    }
   ],
   "source": [
    "comments[0]"
   ]
  },
  {
   "cell_type": "markdown",
   "id": "c2530ee3-4ff9-4f95-a2e2-abc555d56c19",
   "metadata": {},
   "source": [
    "## ⭐ Groups\n",
    "\n",
    "Groups are containers of `Nodes`. They have `id` and `uuid` as well, but it is common to refer them using the `label`, as there are typically only as few groups that are out there."
   ]
  },
  {
   "cell_type": "code",
   "execution_count": 41,
   "id": "f919479f-fc9e-44de-a4f0-1826a9d0b3ae",
   "metadata": {},
   "outputs": [],
   "source": [
    "from aiida.orm import Group"
   ]
  },
  {
   "cell_type": "markdown",
   "id": "9263d8ea-efa3-46d9-8814-787e0a2376e5",
   "metadata": {},
   "source": [
    "Create a group called `mygroup`, if there isn't one already. If there is one, just return it."
   ]
  },
  {
   "cell_type": "code",
   "execution_count": 42,
   "id": "59987a59-2700-4fe6-a757-f66053ba578c",
   "metadata": {},
   "outputs": [],
   "source": [
    "group = Group.objects.get_or_create(label=\"mygroup\")[0]"
   ]
  },
  {
   "cell_type": "markdown",
   "id": "d3000629-1646-435d-a85d-b30363b2b248",
   "metadata": {},
   "source": [
    "Add nodes to this group"
   ]
  },
  {
   "cell_type": "code",
   "execution_count": 43,
   "id": "c9ef617d-5cc0-45bf-a74d-56512d5575e2",
   "metadata": {},
   "outputs": [],
   "source": [
    "group.add_nodes(node)"
   ]
  },
  {
   "cell_type": "markdown",
   "id": "2196c963-1ab6-4728-bc72-996378f42ee6",
   "metadata": {},
   "source": [
    "List all nodes in the group"
   ]
  },
  {
   "cell_type": "code",
   "execution_count": 44,
   "id": "e91896c1-de8e-4bad-9bad-83fd462960c5",
   "metadata": {},
   "outputs": [
    {
     "data": {
      "text/plain": [
       "[<Data: uuid: 7337d4d8-589b-4478-8951-948b7fa053fa (pk: 1)>]"
      ]
     },
     "execution_count": 44,
     "metadata": {},
     "output_type": "execute_result"
    }
   ],
   "source": [
    "list(group.nodes)"
   ]
  },
  {
   "cell_type": "markdown",
   "id": "f93cf253-48da-4a45-b3d9-0fe769808e34",
   "metadata": {},
   "source": [
    "Nodes inside the group can be iterated"
   ]
  },
  {
   "cell_type": "code",
   "execution_count": 45,
   "id": "11fba3bb-4610-42d4-917f-4b24f57d5caf",
   "metadata": {},
   "outputs": [
    {
     "name": "stdout",
     "output_type": "stream",
     "text": [
      "materials1-run1-input-data\n"
     ]
    }
   ],
   "source": [
    "for node in group.nodes:\n",
    "    print(node.label)"
   ]
  },
  {
   "cell_type": "markdown",
   "id": "b25cbdf3-f392-456a-b7bb-3c662e92ebdc",
   "metadata": {},
   "source": [
    "Remove nodes in the group"
   ]
  },
  {
   "cell_type": "code",
   "execution_count": 46,
   "id": "7189fa42-498c-4d1d-825b-9ec8074450a6",
   "metadata": {},
   "outputs": [],
   "source": [
    "group.remove_nodes(node)"
   ]
  },
  {
   "cell_type": "code",
   "execution_count": 47,
   "id": "f979b66b-8e9b-415b-834f-431252f40a85",
   "metadata": {},
   "outputs": [
    {
     "data": {
      "text/plain": [
       "[]"
      ]
     },
     "execution_count": 47,
     "metadata": {},
     "output_type": "execute_result"
    }
   ],
   "source": [
    "list(group.nodes)"
   ]
  },
  {
   "cell_type": "markdown",
   "id": "6ce5a1fb-464f-4bbb-8cf9-10594dbd4130",
   "metadata": {
    "tags": []
   },
   "source": [
    "## `GroupPathX`\n",
    "\n",
    "`GroupPathX` extends the `GroupPath` as implemented in `aiida-core`. The latter allows nesting a `Group` inside a `Group` virtually (not in the database).\n",
    "Given a group with label `mygroup` and a second group with label `mygroup/subgroup`, the latter is treated as if it is nested under the former.\n",
    "\n",
    "`GroupPathX` allow `Node` that are contained inside the `Group` to be referenced similarly.   \n",
    "For example, `mygroup/subgroup/mynode` can be used to reference the `Node` with *alias* `mynode` stored in group with label `mygroup/subgroup`.  \n",
    "\n",
    "The *alias* is another property of the `Node` that is associated with `mygroup/subgroup`.  \n",
    "Each node can have multiple *alias* targeted for different group. \n",
    "\n",
    "This is analogous to the filesystem:\n",
    "\n",
    "- `Group` -> directory\n",
    "- `Node` with alias -> files"
   ]
  },
  {
   "cell_type": "code",
   "execution_count": 48,
   "id": "0720f13f-fc2a-481a-901a-b8b180931387",
   "metadata": {},
   "outputs": [],
   "source": [
    "from aiida_grouppathx import GroupPathX, decorate_node, decorate_with_uuid, decorate_with_exit_status"
   ]
  },
  {
   "cell_type": "code",
   "execution_count": 49,
   "id": "fe576804-901d-4f11-b285-e85ebb4cf9a0",
   "metadata": {},
   "outputs": [],
   "source": [
    "group1 = GroupPathX(\"mygroup\")\n",
    "group2 = GroupPathX(\"mygroup/subgroup\")"
   ]
  },
  {
   "cell_type": "code",
   "execution_count": 50,
   "id": "9cebbfb8-2610-433e-b0c2-062ca7019271",
   "metadata": {},
   "outputs": [
    {
     "data": {
      "text/plain": [
       "True"
      ]
     },
     "execution_count": 50,
     "metadata": {},
     "output_type": "execute_result"
    }
   ],
   "source": [
    "group2.is_virtual"
   ]
  },
  {
   "cell_type": "markdown",
   "id": "78cd826e-8bdd-4817-ac62-0c6fb6f6fce1",
   "metadata": {},
   "source": [
    "There is no group called `mygroup/subgroup` yet... We creat it now!"
   ]
  },
  {
   "cell_type": "code",
   "execution_count": 51,
   "id": "353a72c6-065d-45cf-8cd9-c46837b6d2ab",
   "metadata": {},
   "outputs": [
    {
     "data": {
      "text/plain": [
       "(<Group: 'mygroup/subgroup' [type core], of user user@email.com>, True)"
      ]
     },
     "execution_count": 51,
     "metadata": {},
     "output_type": "execute_result"
    }
   ],
   "source": [
    "group2.get_or_create_group()"
   ]
  },
  {
   "cell_type": "code",
   "execution_count": 52,
   "id": "20c229c5-a4a0-4723-96e7-41bf644b959c",
   "metadata": {},
   "outputs": [
    {
     "data": {
      "text/plain": [
       "False"
      ]
     },
     "execution_count": 52,
     "metadata": {},
     "output_type": "execute_result"
    }
   ],
   "source": [
    "group2.is_virtual"
   ]
  },
  {
   "cell_type": "code",
   "execution_count": 53,
   "id": "759a52ad-5999-46aa-815f-a2da807327a9",
   "metadata": {},
   "outputs": [
    {
     "data": {
      "text/plain": [
       "True"
      ]
     },
     "execution_count": 53,
     "metadata": {},
     "output_type": "execute_result"
    }
   ],
   "source": [
    "group2.is_group"
   ]
  },
  {
   "cell_type": "markdown",
   "id": "4357511f-5197-4a01-92e3-c0b398268c10",
   "metadata": {},
   "source": [
    "List the content of `mygroup`"
   ]
  },
  {
   "cell_type": "code",
   "execution_count": 54,
   "id": "e82ef786-660f-4525-b45a-49ac8de1f8c0",
   "metadata": {},
   "outputs": [
    {
     "name": "stdout",
     "output_type": "stream",
     "text": [
      "mygroup\n",
      "└── subgroup\n",
      "\n"
     ]
    }
   ],
   "source": [
    "group1.show_tree()"
   ]
  },
  {
   "cell_type": "markdown",
   "id": "ae95299c-8e1d-4964-aff6-4c230707cbdb",
   "metadata": {},
   "source": [
    "Let's add some nodes that are \"named\""
   ]
  },
  {
   "cell_type": "code",
   "execution_count": 55,
   "id": "1ad60249-7d16-4409-bdd7-e4eae69ad107",
   "metadata": {},
   "outputs": [],
   "source": [
    "group1.add_node(node, \"my_node\")"
   ]
  },
  {
   "cell_type": "code",
   "execution_count": 56,
   "id": "5afaa38a-dbad-4617-a7ce-67c34f852059",
   "metadata": {},
   "outputs": [
    {
     "name": "stdout",
     "output_type": "stream",
     "text": [
      "mygroup\n",
      "├── my_node *\n",
      "└── subgroup\n",
      "\n"
     ]
    }
   ],
   "source": [
    "group1.show_tree()"
   ]
  },
  {
   "cell_type": "markdown",
   "id": "6637419e-9fe2-4b7a-9330-b7f7db0833fa",
   "metadata": {},
   "source": [
    "Note that you can still add node that are unnamed"
   ]
  },
  {
   "cell_type": "code",
   "execution_count": 57,
   "id": "2035cc04-87c1-4c74-a881-72e5c4dd4526",
   "metadata": {},
   "outputs": [],
   "source": [
    "group1.get_group().add_nodes(Data().store())"
   ]
  },
  {
   "cell_type": "markdown",
   "id": "425f671f-5b65-43bf-bf6b-f774a3f2849b",
   "metadata": {},
   "source": [
    "The *leaf* that suffixed by `*` marks that it is a node."
   ]
  },
  {
   "cell_type": "code",
   "execution_count": 58,
   "id": "7dbd5e50-750f-4ce5-8d32-5726d6acdaee",
   "metadata": {},
   "outputs": [
    {
     "name": "stdout",
     "output_type": "stream",
     "text": [
      "mygroup\n",
      "├── my_node *\n",
      "└── subgroup\n",
      "\n"
     ]
    }
   ],
   "source": [
    "group1.show_tree()"
   ]
  },
  {
   "cell_type": "markdown",
   "id": "0140af20-6d5b-45b6-bdb2-de822eda821b",
   "metadata": {},
   "source": [
    "But this can be customized as well"
   ]
  },
  {
   "cell_type": "code",
   "execution_count": 59,
   "id": "afba897c-4c78-4e0e-9780-261c81fa769a",
   "metadata": {},
   "outputs": [
    {
     "name": "stdout",
     "output_type": "stream",
     "text": [
      "mygroup\n",
      "├── my_node * | 7337d4d8-589\n",
      "└── subgroup\n",
      "\n"
     ]
    }
   ],
   "source": [
    "group1.show_tree(decorate_node, decorate_with_uuid)"
   ]
  },
  {
   "cell_type": "markdown",
   "id": "ed5783e7-0630-4cc5-a3b8-3f491b484f72",
   "metadata": {},
   "source": [
    "The extra `Data` node is not present since it does not have an *alias*, we can still get it by using the convenience method below"
   ]
  },
  {
   "cell_type": "code",
   "execution_count": 60,
   "id": "965a86fb-5dd2-4917-8170-8f1503bff5bb",
   "metadata": {},
   "outputs": [
    {
     "data": {
      "text/plain": [
       "[<Data: uuid: 005016fa-ce21-47e8-b6a6-674cae3a52c5 (pk: 3)>]"
      ]
     },
     "execution_count": 60,
     "metadata": {},
     "output_type": "execute_result"
    }
   ],
   "source": [
    "group1.list_nodes_without_alias()"
   ]
  },
  {
   "cell_type": "markdown",
   "id": "c42f34be-7818-4a21-8fa1-0cc33248789a",
   "metadata": {},
   "source": [
    "The *alias* is just stored in the `extras` attribute"
   ]
  },
  {
   "cell_type": "code",
   "execution_count": 61,
   "id": "a0ebe4d9-eef3-47e0-8c39-2deccf0c2314",
   "metadata": {},
   "outputs": [
    {
     "data": {
      "text/plain": [
       "{'_aiida_hash': 'b258839769b0bf8bda84bf09bcdd0a39d5df30402925e0e0e0d42a62708bf975'}"
      ]
     },
     "execution_count": 61,
     "metadata": {},
     "output_type": "execute_result"
    }
   ],
   "source": [
    "group1.list_nodes_without_alias()[0].extras"
   ]
  },
  {
   "cell_type": "code",
   "execution_count": 62,
   "id": "07433f55-b798-4e04-900b-54934d02c821",
   "metadata": {},
   "outputs": [
    {
     "data": {
      "text/plain": [
       "{'_aiida_hash': 'f29c067972a92842ec9f252cc103bcbc08dafaf462277c4dbf02d0f69b28cf64',\n",
       " 'ha': 42,\n",
       " '_group_alias': {'538a6b0c-96db-4f9b-b249-d651ac8bb87f': 'my_node'}}"
      ]
     },
     "execution_count": 62,
     "metadata": {},
     "output_type": "execute_result"
    }
   ],
   "source": [
    "group1['my_node'].get_node().extras"
   ]
  },
  {
   "cell_type": "markdown",
   "id": "659c4d42-efe6-45a6-b747-802a9896147e",
   "metadata": {},
   "source": [
    "\n",
    "Let's do a simple calculation, `1 + 2 = 3`.  \n",
    "Store two inputs, `Int(1)` and `Int(2)` under `mygroup`, and the results in `subgroup`."
   ]
  },
  {
   "cell_type": "code",
   "execution_count": 63,
   "id": "6144f460-a389-47fa-914e-9c7245770420",
   "metadata": {},
   "outputs": [],
   "source": [
    "from aiida.engine import calcfunction\n",
    "from aiida.orm import Int\n",
    "@calcfunction\n",
    "def add(a, b):\n",
    "    return a + b"
   ]
  },
  {
   "cell_type": "code",
   "execution_count": 64,
   "id": "7f937863-d537-41d3-ac03-74b19c77b0f6",
   "metadata": {},
   "outputs": [],
   "source": [
    "group1.add_node(Int(1).store(), \"my_one\")\n",
    "group1.add_node(Int(2).store(), \"my_two\")\n",
    "group2.add_node(add(group1['my_one'].get_node(), group1['my_two'].get_node()), \"my_result\")"
   ]
  },
  {
   "cell_type": "code",
   "execution_count": 65,
   "id": "bde573f5-821d-491e-8c1b-3754748d2c82",
   "metadata": {},
   "outputs": [
    {
     "name": "stdout",
     "output_type": "stream",
     "text": [
      "mygroup\n",
      "├── my_node *\n",
      "├── my_one *\n",
      "├── my_two *\n",
      "└── subgroup\n",
      "    └── my_result *\n",
      "\n"
     ]
    }
   ],
   "source": [
    "group1.show_tree()"
   ]
  },
  {
   "cell_type": "markdown",
   "id": "cb600b29-ad23-4ebc-bdba-3a7e6195a52a",
   "metadata": {},
   "source": [
    "We can also decorate the nodes with other properties, such as their value"
   ]
  },
  {
   "cell_type": "code",
   "execution_count": 66,
   "id": "7cc1016b-4ff9-40a0-8d20-6a8d07b4290f",
   "metadata": {},
   "outputs": [],
   "source": [
    "def decorate_by_value(path):\n",
    "    if path.is_node:\n",
    "        node = path.get_node()\n",
    "        if isinstance(node, Int):\n",
    "            return \"Int: \" + str(node.value)\n",
    "    "
   ]
  },
  {
   "cell_type": "code",
   "execution_count": 67,
   "id": "48ffda69-fb38-4bab-8e90-d00aa3a04015",
   "metadata": {},
   "outputs": [
    {
     "name": "stdout",
     "output_type": "stream",
     "text": [
      "mygroup\n",
      "├── my_node * | 7337d4d8-589\n",
      "├── my_one * | 2ec62214-2bc | Int: 1\n",
      "├── my_two * | 2066f714-02a | Int: 2\n",
      "└── subgroup\n",
      "    └── my_result * | 61f9e4c3-569 | Int: 3\n",
      "\n"
     ]
    }
   ],
   "source": [
    "group1.show_tree(decorate_node, decorate_with_uuid, decorate_by_value)"
   ]
  },
  {
   "cell_type": "markdown",
   "id": "7e67632b-0c9d-4414-8e23-e7d6f43059ed",
   "metadata": {},
   "source": [
    "One can put the calculation node into the group as well"
   ]
  },
  {
   "cell_type": "code",
   "execution_count": 68,
   "id": "dac9eaa0-4f3f-4899-9345-c3076ced0f19",
   "metadata": {},
   "outputs": [],
   "source": [
    "group1.add_node(group2['my_result'].get_node().get_incoming().one().node, \"calculation\")"
   ]
  },
  {
   "cell_type": "code",
   "execution_count": 69,
   "id": "2a625a7c-81e9-4cf3-97ce-25b9d0879679",
   "metadata": {},
   "outputs": [
    {
     "name": "stdout",
     "output_type": "stream",
     "text": [
      "mygroup\n",
      "├── calculation * | [0]\n",
      "├── my_node *\n",
      "├── my_one *\n",
      "├── my_two *\n",
      "└── subgroup\n",
      "    └── my_result *\n",
      "\n"
     ]
    }
   ],
   "source": [
    "group1.show_tree(decorate_node, decorate_with_exit_status)"
   ]
  },
  {
   "cell_type": "markdown",
   "id": "77c2cd49-b66f-463e-a906-2634bb1a2665",
   "metadata": {},
   "source": [
    "But this is not necessary, since `group2['my_result']` already contains the link pointing towards the calculation, and can be used to trace the inputs, as done automatically by aiida.\n",
    "\n",
    "```\n",
    "group2['my_result'].get_node().get_incoming().one().node\n",
    "```\n",
    "\n",
    "However, for actual DFT calculations, one calls the `submit` function and get the `ProcessNode` back. The `ProcessNode` can be added to group to allow monitoring/extracting data later on.\n",
    "\n",
    "For example:"
   ]
  },
  {
   "cell_type": "code",
   "execution_count": 70,
   "id": "b432f5b0-a2de-4056-a952-103aa8945b91",
   "metadata": {},
   "outputs": [
    {
     "data": {
      "text/plain": [
       "<Int: uuid: 61f9e4c3-5696-45d2-8b9b-20d199994f92 (pk: 7) value: 3>"
      ]
     },
     "execution_count": 70,
     "metadata": {},
     "output_type": "execute_result"
    }
   ],
   "source": [
    "calc = group1['calculation'].get_node()\n",
    "calc.outputs.result"
   ]
  },
  {
   "cell_type": "markdown",
   "id": "4507d95c-742f-408c-a881-cb6ef6dc2c5c",
   "metadata": {},
   "source": [
    "## Remarks \n",
    "\n",
    "While the use of `Node` for storing every can seem overwhelming, AiiDA provides an array of tools for organizing data.  \n",
    "\n",
    "\n",
    "With the help of `GroupPathX` ([aiida-grouppathx](https://github.com/zhubonan/aiida-grouppathx/)), a plugin that does not modify aiida-core's code in any way, one can work and organize data in a way that is similiar to the files and foldres approach."
   ]
  }
 ],
 "metadata": {
  "kernelspec": {
   "display_name": "Python [conda env:aiida-2.0-dev]",
   "language": "python",
   "name": "conda-env-aiida-2.0-dev-py"
  },
  "language_info": {
   "codemirror_mode": {
    "name": "ipython",
    "version": 3
   },
   "file_extension": ".py",
   "mimetype": "text/x-python",
   "name": "python",
   "nbconvert_exporter": "python",
   "pygments_lexer": "ipython3",
   "version": "3.8.10"
  }
 },
 "nbformat": 4,
 "nbformat_minor": 5
}
